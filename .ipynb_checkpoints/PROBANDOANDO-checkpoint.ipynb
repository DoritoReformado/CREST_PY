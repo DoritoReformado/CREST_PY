{
 "cells": [
  {
   "cell_type": "code",
   "execution_count": 5,
   "id": "6c2c85dc",
   "metadata": {},
   "outputs": [
    {
     "ename": "ModuleNotFoundError",
     "evalue": "No module named 'ee'",
     "output_type": "error",
     "traceback": [
      "\u001b[1;31m---------------------------------------------------------------------------\u001b[0m",
      "\u001b[1;31mModuleNotFoundError\u001b[0m                       Traceback (most recent call last)",
      "Cell \u001b[1;32mIn[5], line 1\u001b[0m\n\u001b[1;32m----> 1\u001b[0m \u001b[38;5;28;01mimport\u001b[39;00m \u001b[38;5;21;01mee\u001b[39;00m\n\u001b[0;32m      2\u001b[0m \u001b[38;5;28;01mimport\u001b[39;00m \u001b[38;5;21;01marcpy\u001b[39;00m\n\u001b[0;32m      3\u001b[0m \u001b[38;5;28;01mimport\u001b[39;00m \u001b[38;5;21;01mgeopandas\u001b[39;00m \u001b[38;5;28;01mas\u001b[39;00m \u001b[38;5;21;01mgpd\u001b[39;00m\n",
      "\u001b[1;31mModuleNotFoundError\u001b[0m: No module named 'ee'"
     ]
    }
   ],
   "source": [
    "import ee\n",
    "import arcpy\n",
    "import geopandas as gpd\n",
    "import urllib.request\n",
    "import os"
   ]
  },
  {
   "cell_type": "code",
   "execution_count": null,
   "id": "04e14242",
   "metadata": {},
   "outputs": [],
   "source": [
    "temporal_folder = os.environ['APPDATA'] + '\\\\CRESTPY\\\\'\n",
    "def Basics_singleImage(nombre_Archivo, shp_path, Root, satelite = None, banda = None, cellsize = 0.0008, recortar = False, escalar = False):\n",
    "    #verifica datos de entrada (no va aqui)\n",
    "    if satelite == None:\n",
    "        satelite = Valores_Base[nombre_Archivo]['Satelite']\n",
    "    if banda == None:\n",
    "        banda = Valores_Base[nombre_Archivo]['Banda']\n",
    "\n",
    "    #descarga de la imagen por earth engin\n",
    "    imagen = ee.Image(str(satelite)).clip(ee.FeatureCollection(gpd.read_file(str(shp_path)).__geo_interface__).geometry())\n",
    "    url = imagen.getDownloadUrl({\n",
    "        'bands': [str(banda)], #dato del satelite a tratar\n",
    "        'format': 'GEO_TIFF', #Formato de exportado\n",
    "    })\n",
    "    \n",
    "    #Descarga del archivo a una ruta temporal\n",
    "    temp_file = os.path.join(temporal_folder,nombre_Archivo+'.tif')\n",
    "    urllib.request.urlretrieve(url, temp_file)\n",
    "    \n",
    "    #pasar a formato Ascii\n",
    "    escritura(temp_file, Root, nombre_Archivo)\n",
    "    print(\"Proceso terminado\")\n",
    "    \n"
   ]
  },
  {
   "cell_type": "code",
   "execution_count": 55,
   "id": "1c393f39",
   "metadata": {},
   "outputs": [
    {
     "name": "stdout",
     "output_type": "stream",
     "text": [
      "Defina el nombre de la cuenca: Guarroco\n",
      "{'Nombre': 'pet', 'nombre_Cuenca': '', 'nombre_Carpeta': 'PETs', 'Satelite': 'NASA/FLDAS/NOAH01/C/GL/M/V001', 'Banda': 'Evap_tavg'}\n",
      "{'Nombre': 'rain', 'nombre_Cuenca': '', 'nombre_Carpeta': 'Rains', 'Satelite': 'NASA/FLDAS/NOAH01/C/GL/M/V001', 'Banda': 'Rainf_f_tavg'}\n",
      "{'DEM': {'Nombre': 'DEM', 'nombre_Carpeta': 'Basics', 'Satelite': 'WWF/HydroSHEDS/03VFDEM', 'Banda': 'b1'}, 'FDR': {'Nombre': 'FDR', 'nombre_Carpeta': 'Basics', 'Satelite': 'WWF/HydroSHEDS/03DIR', 'Banda': 'b1'}, 'FAC': {'Nombre': 'FAC', 'nombre_Carpeta': 'Basics', 'Satelite': 'WWF/HydroSHEDS/15ACC', 'Banda': 'b1'}, 'PETs': {'Nombre': 'pet', 'nombre_Cuenca': '', 'nombre_Carpeta': 'PETs', 'Satelite': 'NASA/FLDAS/NOAH01/C/GL/M/V001', 'Banda': 'Evap_tavg'}, 'Rains': {'Nombre': 'rain', 'nombre_Cuenca': '', 'nombre_Carpeta': 'Rains', 'Satelite': 'NASA/FLDAS/NOAH01/C/GL/M/V001', 'Banda': 'Rainf_f_tavg'}}\n"
     ]
    }
   ],
   "source": [
    "class Datos:\n",
    "    datos = {\n",
    "        'DEM': {'Nombre': 'DEM', 'nombre_Carpeta': 'Basics', 'Satelite': 'WWF/HydroSHEDS/03VFDEM', 'Banda': 'b1'},\n",
    "        'FDR': {'Nombre': 'FDR', 'nombre_Carpeta': 'Basics', 'Satelite': 'WWF/HydroSHEDS/03DIR', 'Banda': 'b1'},\n",
    "        'FAC': {'Nombre': 'FAC', 'nombre_Carpeta': 'Basics', 'Satelite': 'WWF/HydroSHEDS/15ACC', 'Banda': 'b1'},\n",
    "        'PETs': {'Nombre': 'pet', 'nombre_Cuenca': '', 'nombre_Carpeta': 'PETs', 'Satelite': 'NASA/FLDAS/NOAH01/C/GL/M/V001', 'Banda': 'Evap_tavg'},\n",
    "        'Rains': {'Nombre': 'rain', 'nombre_Cuenca': '', 'nombre_Carpeta': 'Rains', 'Satelite': 'NASA/FLDAS/NOAH01/C/GL/M/V001', 'Banda': 'Rainf_f_tavg'}\n",
    "    }\n",
    "\n",
    "    def __init__(self):\n",
    "        self.nombre_cuenca = input(\"Defina el nombre de la cuenca: \")\n",
    "        self.datos['PETs']['nombre_Cuenca'] = self.nombre_cuenca\n",
    "        self.datos['Rains']['nombre_Cuenca'] = self.nombre_cuenca\n",
    "\n",
    "    def prueba(self):\n",
    "        print(self.datos)\n",
    "\n",
    "# Create an instance of the Datos class\n",
    "datos_instance = Datos()\n",
    "datos_instance.prueba()\n",
    "\n",
    "        "
   ]
  },
  {
   "cell_type": "code",
   "execution_count": 54,
   "id": "746802a1",
   "metadata": {},
   "outputs": [
    {
     "name": "stdout",
     "output_type": "stream",
     "text": [
      "defina el nombre de la cuenca: Guarroco\n"
     ]
    },
    {
     "ename": "TypeError",
     "evalue": "'type' object is not subscriptable",
     "output_type": "error",
     "traceback": [
      "\u001b[1;31m---------------------------------------------------------------------------\u001b[0m",
      "\u001b[1;31mTypeError\u001b[0m                                 Traceback (most recent call last)",
      "\u001b[1;32m<ipython-input-54-2907ed9b549f>\u001b[0m in \u001b[0;36m<module>\u001b[1;34m\u001b[0m\n\u001b[1;32m----> 1\u001b[1;33m \u001b[0mdata\u001b[0m \u001b[1;33m=\u001b[0m \u001b[0mdatos\u001b[0m\u001b[1;33m(\u001b[0m\u001b[1;33m)\u001b[0m\u001b[1;33m\u001b[0m\u001b[1;33m\u001b[0m\u001b[0m\n\u001b[0m",
      "\u001b[1;32m<ipython-input-53-f279f659d119>\u001b[0m in \u001b[0;36m__init__\u001b[1;34m(self)\u001b[0m\n\u001b[0;32m     10\u001b[0m     \u001b[1;32mdef\u001b[0m \u001b[0m__init__\u001b[0m\u001b[1;33m(\u001b[0m\u001b[0mself\u001b[0m\u001b[1;33m)\u001b[0m\u001b[1;33m:\u001b[0m\u001b[1;33m\u001b[0m\u001b[1;33m\u001b[0m\u001b[0m\n\u001b[0;32m     11\u001b[0m         \u001b[0mnombre_cuenca\u001b[0m \u001b[1;33m=\u001b[0m \u001b[0minput\u001b[0m\u001b[1;33m(\u001b[0m\u001b[1;34m\"defina el nombre de la cuenca: \"\u001b[0m\u001b[1;33m)\u001b[0m\u001b[1;33m\u001b[0m\u001b[1;33m\u001b[0m\u001b[0m\n\u001b[1;32m---> 12\u001b[1;33m         \u001b[0mprint\u001b[0m\u001b[1;33m(\u001b[0m\u001b[0mdatos\u001b[0m\u001b[1;33m[\u001b[0m\u001b[1;34m'PETs'\u001b[0m\u001b[1;33m]\u001b[0m\u001b[1;33m)\u001b[0m\u001b[1;33m\u001b[0m\u001b[1;33m\u001b[0m\u001b[0m\n\u001b[0m\u001b[0;32m     13\u001b[0m         \u001b[0mprint\u001b[0m\u001b[1;33m(\u001b[0m\u001b[0mdatos\u001b[0m\u001b[1;33m[\u001b[0m\u001b[1;34m'Rains'\u001b[0m\u001b[1;33m]\u001b[0m\u001b[1;33m)\u001b[0m\u001b[1;33m\u001b[0m\u001b[1;33m\u001b[0m\u001b[0m\n\u001b[0;32m     14\u001b[0m \u001b[1;33m\u001b[0m\u001b[0m\n",
      "\u001b[1;31mTypeError\u001b[0m: 'type' object is not subscriptable"
     ]
    }
   ],
   "source": [
    "data = datos()\n"
   ]
  },
  {
   "cell_type": "code",
   "execution_count": 3,
   "id": "91532b01",
   "metadata": {},
   "outputs": [],
   "source": [
    "shp_path = r'C:\\Users\\carlo\\OneDrive\\Jovenes Investigadores\\Trabajo\\Mes 1\\HuilaDatos\\Geologia\\Projectsandtransformations\\Cuenca_Rio_Guarocó.shp'\n",
    "satelite = \n",
    "banda = \n",
    "sistemaCoordenadas = 4326"
   ]
  },
  {
   "cell_type": "code",
   "execution_count": 4,
   "id": "f0d0c24f",
   "metadata": {},
   "outputs": [
    {
     "ename": "SyntaxError",
     "evalue": "invalid syntax (188290532.py, line 1)",
     "output_type": "error",
     "traceback": [
      "\u001b[1;36m  Cell \u001b[1;32mIn[4], line 1\u001b[1;36m\u001b[0m\n\u001b[1;33m    if not os.path.exist(temporal_folder) os.mkdir(temporal_folder)\u001b[0m\n\u001b[1;37m                                          ^\u001b[0m\n\u001b[1;31mSyntaxError\u001b[0m\u001b[1;31m:\u001b[0m invalid syntax\n"
     ]
    }
   ],
   "source": [
    "if not os.path.exist(temporal_folder) os.mkdir(temporal_folder)"
   ]
  }
 ],
 "metadata": {
  "kernelspec": {
   "display_name": "Python 3",
   "language": "python",
   "name": "python3"
  },
  "language_info": {
   "codemirror_mode": {
    "name": "ipython",
    "version": 3
   },
   "file_extension": ".py",
   "mimetype": "text/x-python",
   "name": "python",
   "nbconvert_exporter": "python",
   "pygments_lexer": "ipython3",
   "version": "3.9.11"
  },
  "varInspector": {
   "cols": {
    "lenName": 16,
    "lenType": 16,
    "lenVar": 40
   },
   "kernels_config": {
    "python": {
     "delete_cmd_postfix": "",
     "delete_cmd_prefix": "del ",
     "library": "var_list.py",
     "varRefreshCmd": "print(var_dic_list())"
    },
    "r": {
     "delete_cmd_postfix": ") ",
     "delete_cmd_prefix": "rm(",
     "library": "var_list.r",
     "varRefreshCmd": "cat(var_dic_list()) "
    }
   },
   "types_to_exclude": [
    "module",
    "function",
    "builtin_function_or_method",
    "instance",
    "_Feature"
   ],
   "window_display": false
  }
 },
 "nbformat": 4,
 "nbformat_minor": 5
}
