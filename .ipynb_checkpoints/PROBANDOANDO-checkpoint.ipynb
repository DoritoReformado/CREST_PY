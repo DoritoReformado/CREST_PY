{
 "cells": [
  {
   "cell_type": "code",
   "execution_count": 1,
   "id": "56d99698",
   "metadata": {},
   "outputs": [],
   "source": [
    "import Crest_Py as crt\n",
    "import pandas as pd"
   ]
  },
  {
   "cell_type": "code",
   "execution_count": null,
   "id": "8f412b42",
   "metadata": {},
   "outputs": [],
   "source": [
    "Root=\"C:/Users/carlo/OneDrive/Crest_Prueba/\"\n",
    "shp_path =Root[:-13]+\"Jovenes Investigadores/Trabajo/Mes 1/HuilaDatos/Geologia/Projectsandtransformations/Cuenca_Rio_Guarocó.shp\"\n",
    "start_date = '2019-01-01'\n",
    "end_date = '2019-12-31'\n",
    "crt.nombreCuenca('Guarroco')"
   ]
  },
  {
   "cell_type": "code",
   "execution_count": 8,
   "id": "d07ed5ab",
   "metadata": {},
   "outputs": [],
   "source": [
    "crt.Iniciar(Root)"
   ]
  },
  {
   "cell_type": "code",
   "execution_count": 3,
   "id": "4ce1100f",
   "metadata": {
    "scrolled": true
   },
   "outputs": [
    {
     "name": "stdout",
     "output_type": "stream",
     "text": [
      "Proceso terminado\n",
      "Proceso terminado\n",
      "Proceso terminado\n"
     ]
    },
    {
     "name": "stderr",
     "output_type": "stream",
     "text": [
      "C:\\Users\\carlo\\OneDrive\\python\\Crest_py\\Extensionlocal.py:33: UserWarning: Geometry is in a geographic CRS. Results from 'buffer' are likely incorrect. Use 'GeoSeries.to_crs()' to re-project geometries to a projected CRS before this operation.\n",
      "\n",
      "  square_geometry.geometry = square_geometry.buffer(square_size / 2, cap_style=3)\n"
     ]
    },
    {
     "name": "stdout",
     "output_type": "stream",
     "text": [
      "Archivo recortado guardado en: C:/Users/carlo/OneDrive/Crest_Prueba/Temporales/Basics/Normal/Mask.tif\n",
      "C:/Users/carlo/OneDrive/Crest_Prueba/Temporales/Basics/Escalado/Mask.tif\n",
      "proceso terminado\n",
      "Archivo recortado guardado en: C:/Users/carlo/OneDrive/Crest_Prueba/Temporales/Basics/Normal/Stream.tif\n",
      "C:/Users/carlo/OneDrive/Crest_Prueba/Temporales/Basics/Escalado/Stream.tif\n"
     ]
    },
    {
     "name": "stderr",
     "output_type": "stream",
     "text": [
      "C:\\Users\\carlo\\OneDrive\\python\\Crest_py\\Extensionlocal.py:33: UserWarning: Geometry is in a geographic CRS. Results from 'buffer' are likely incorrect. Use 'GeoSeries.to_crs()' to re-project geometries to a projected CRS before this operation.\n",
      "\n",
      "  square_geometry.geometry = square_geometry.buffer(square_size / 2, cap_style=3)\n"
     ]
    },
    {
     "name": "stdout",
     "output_type": "stream",
     "text": [
      "proceso terminado\n"
     ]
    }
   ],
   "source": [
    "##**!<------Ingresar DEM------>!**##\n",
    "crt.Basics_singleImage('DEM', shp_path, Root, escalar = True)\n",
    "##**!<------Ingresar FDR------>!**##\n",
    "crt.Basics_singleImage('FDR', shp_path, Root, escalar = True)\n",
    "##**!<------Ingresar FAC------>!**##\n",
    "crt.Basics_singleImage('FAC', shp_path, Root, escalar = True)\n",
    "##**!<------Ingresar Mask------>!**##\n",
    "nombre_Archivo=\"Mask\"\n",
    "tif_path=Root[:-13]+\"HydroSHEDS_Download_Data/HYDROSHEDS_LANDMASK/sa_msk_3s.tif\"\n",
    "crt.Basics_singleImage_Local(nombre_Archivo, tif_path, shp_path, Root, recortar = True, escalar = True)\n",
    "##**!<------Ingresar Stream------>!**##\n",
    "nombre_Archivo=\"Stream\"\n",
    "tif_path=Root[:-13]+\"HydroSHEDS_Download_Data/HydroRIVERS_v10_sa_shp/HYDRA.tif\"\n",
    "crt.Basics_singleImage_Local(nombre_Archivo, tif_path, shp_path, Root, recortar = True, escalar = True)"
   ]
  },
  {
   "cell_type": "code",
   "execution_count": 4,
   "id": "fda1307e",
   "metadata": {},
   "outputs": [
    {
     "name": "stdout",
     "output_type": "stream",
     "text": [
      "proceso terminado\n"
     ]
    }
   ],
   "source": [
    "##**!<------Ingresar PET------>!**##\n",
    "nombre_carpeta=\"PET\"\n",
    "crt.Download_TimeSerie(nombre_carpeta, Root, shp_path, start_date, end_date)"
   ]
  },
  {
   "cell_type": "code",
   "execution_count": 5,
   "id": "a061ca8a",
   "metadata": {},
   "outputs": [
    {
     "name": "stdout",
     "output_type": "stream",
     "text": [
      "proceso terminado\n"
     ]
    }
   ],
   "source": [
    "##**!<------Ingresar LLuvias------>!**##\n",
    "nombre_carpeta=\"Rain\"\n",
    "crt.Download_TimeSerie(nombre_carpeta, Root, shp_path, start_date, end_date)"
   ]
  },
  {
   "cell_type": "code",
   "execution_count": 1,
   "id": "dec96da1",
   "metadata": {},
   "outputs": [],
   "source": [
    "import ee\n",
    "import matplotlib.pyplot as plt\n",
    "import pandas as pd\n",
    "##\n",
    "## <---// ESTO TE EXTRAE ESCORRENTIA //--->\n",
    "##\n",
    "estacion = []\n",
    "outlet = []\n",
    "def descargarRunoff(latitude, longitude, ruta):\n",
    "    df = pd.DataFrame(columns=['Fechas', 'Valor'])\n",
    "    # Crear un punto como geometría\n",
    "    point = ee.Geometry.Point([longitude, latitude])\n",
    "\n",
    "    # Rango de fechas\n",
    "    start_date = '2019-01-01'\n",
    "    end_date = '2019-12-31'\n",
    "\n",
    "    print(type(point))\n",
    "\n",
    "    # Crear una colección de imágenes\n",
    "    dataset = ee.ImageCollection('NASA/FLDAS/NOAH01/C/GL/M/V001') \\\n",
    "        .filter(ee.Filter.date(start_date, end_date)) \\\n",
    "        .filterBounds(point) \\\n",
    "        .sort('Qs_tavg')\n",
    "\n",
    "    print(type(dataset))\n",
    "\n",
    "    # Convertir la colección en una lista de imágenes\n",
    "    image_list = dataset.toList(dataset.size())\n",
    "    \n",
    "    # Iterar sobre la lista de imágenes y obtener valores de escorrentía\n",
    "    for i in range(image_list.size().getInfo()):\n",
    "        image = ee.Image(image_list.get(i))\n",
    "        date = image.date().format('YYYYMMdd').getInfo()\n",
    "        runoff_value = image.reduceRegion(ee.Reducer.first(), point).get('Qs_tavg').getInfo()\n",
    "        fila = {'Fechas': date, 'Valor': runoff_value}\n",
    "        df = df._append(fila, ignore_index=True)\n",
    "    \n",
    "    df.to_excel(ruta, index = False)\n",
    "    \n",
    "def añadirOutlet(nombre, longitud, latitud):\n",
    "    outlet.append(f\"\"\"\\nOutletName\t\t\t\t=\t\t\t{nombre}\n",
    "    OutletLong\t\t\t\t=\t\t\t{longitud}\n",
    "    OutletLati\t\t\t  =\t\t\t{latitud}\"\"\")\n",
    "def añadirEstacion(nombre, longitud, latitud):\n",
    "    estacion.append(f\"\"\"\\nOutletName\t\t\t\t=\t\t\t{nombre}\n",
    "    OutletLong\t\t\t\t=\t\t\t{longitud}\n",
    "    OutletLati\t\t\t  =\t\t\t{latitud}\"\"\")\n",
    "    outlet.append(f\"\"\"\\nOutletName\t\t\t\t=\t\t\t{nombre}\n",
    "    OutletLong\t\t\t\t=\t\t\t{longitud}\n",
    "    OutletLati\t\t\t  =\t\t\t{latitud}\"\"\")"
   ]
  },
  {
   "cell_type": "code",
   "execution_count": 3,
   "id": "2f4ecbb4",
   "metadata": {},
   "outputs": [],
   "source": [
    "ESTACIONES = pd.read_excel('C:/Users/Jorge/Onedrive-Carlos/OneDrive/Crest_Prueba/Estaciones.xlsx')\n",
    "ESTACIONES.head(5)\n",
    "for i in range(len(ESTACIONES)):\n",
    "    nombre = ESTACIONES['Nombre'][i]\n",
    "    longitud = ESTACIONES['Longitud'][i]\n",
    "    latitud = ESTACIONES['Latitud'][i]\n",
    "    #descargarRunoff(latitud, longitud, f'{Root}OBS/{nombre}.xlsx')\n",
    "    if i == 0:\n",
    "        añadirOutlet(nombre,longitud,latitud)\n",
    "    añadirEstacion(nombre, longitud, latitud)"
   ]
  },
  {
   "cell_type": "code",
   "execution_count": 4,
   "id": "42230e08",
   "metadata": {},
   "outputs": [],
   "source": [
    "import rasterio\n",
    "nombre_Cuenca = 'Guarroco'\n",
    "outputdate = []\n",
    "outputdate.append(\"OutputDate_1\t\t\t=\t\t\t20190101\\n\")\n",
    "outputdate.append(\"OutputDate_2\t\t\t=\t\t\t20190601\\n\")\n",
    "outputdate.append(\"OutputDate_3\t\t\t=\t\t\t20191201\\n\")\n",
    "Root=\"C:/Users/Jorge/Onedrive-Carlos/OneDrive/Crest_Prueba/\"\n",
    "ColRow = False\n",
    "start_date = '2019-01-01'\n",
    "end_date = '2019-12-31'\n",
    "with rasterio.open(str(Root)+'Temporales/Basics/Normal/DEM.tif', \"r\") as src:\n",
    "    profile = src.profile\n",
    "    NRows = profile[\"width\"]\n",
    "    NCols = profile[\"height\"]\n",
    "    XLLcorner = profile[\"transform\"][2]\n",
    "    YLLcorner = profile[\"transform\"][5]+ (profile[\"height\"] * profile[\"transform\"][4])\n",
    "    Cellsize = profile[\"transform\"][0]\n",
    "\n",
    "\n",
    "Outputs = \"\"\"GOVar_Rain\t\t\t\t=\t\t\tyes\n",
    "GOVar_PET\t\t\t\t\t=\t\t\tyes\n",
    "GOVar_EPot\t\t\t\t=\t\t\tyes\n",
    "GOVar_EAct\t\t\t\t=\t\t\tyes\n",
    "GOVar_W\t\t\t\t\t\t=\t\t\tyes\n",
    "GOVar_SM\t\t\t\t\t=\t\t\tyes\n",
    "GOVar_R\t\t\t\t\t\t=\t\t\tyes\n",
    "GOVar_ExcS\t\t\t\t=\t\t\tyes\n",
    "GOVar_ExcI\t\t\t\t=\t\t\tyes\n",
    "GOVar_RS\t\t\t\t\t=\t\t\tyes\n",
    "GOVar_RI\t\t\t\t\t=\t\t\tyes\"\"\"\n",
    "\n",
    "\n",
    "start_date = '20190101'\n",
    "WarmupDate = '20190601'\n",
    "end_date = '20191231'\n",
    "TIMESTEP = 1\n",
    "Runstyle = 'cali_SCEUA' # simu, cali_SCEUA, RealTime, repe\n",
    "Proyecto = open(Root+\"Guarroco.Project\",\"w\", encoding=\"utf-8\")\n",
    "\n",
    "Proyecto.write(fr\"\"\"##########################################################################\n",
    "# CREST Project File Format (Version more than 2.0)\n",
    "##########################################################################\n",
    "Version\t\t\t\t\t\t=\t\t\t2.0\n",
    "##########################################################################\n",
    "# MODEL AREA \n",
    "##########################################################################\n",
    "NCols \t\t     \t\t=\t\t\t{NRows}\t\t\t\t\t\t# Number of columns\n",
    "NRows \t\t     \t\t=\t\t\t{NCols}\t\t\t\t\t\t# Number of rows\n",
    "XLLCorner \t\t   \t=\t\t\t{XLLcorner}\n",
    "YLLCorner\t\t\t\t\t=\t\t\t{YLLcorner}\n",
    "CellSize \t\t     \t=\t\t\t{Cellsize}\t\t\t\n",
    "NoData_value \t\t  =\t\t\t-9999.\n",
    "##########################################################################\n",
    "# MODEL Run Time Information\n",
    "#  y(year);m(month);d(day);h(hour);u(minute);s(second)\n",
    "##########################################################################\n",
    "TimeMark\t\t\t\t\t=\t\t\tm\t\n",
    "TimeStep\t\t\t\t\t=\t\t\t{TIMESTEP}\n",
    "StartDate\t\t\t\t\t= \t\t{start_date}\n",
    "LoadState\t\t\t\t\t=\t\t\tno\n",
    "WarmupDate\t\t\t\t=\t\t\t{WarmupDate}\n",
    "EndDate\t\t\t\t\t\t= \t\t{end_date}\n",
    "SaveState\t\t\t\t\t=\t\t\tno\n",
    "##########################################################################\n",
    "# MODEL Run Style\n",
    "##########################################################################\n",
    "RunStyle\t\t\t\t\t=\t\t\t{Runstyle}   \t# simu, cali_SCEUA, RealTime, repe\n",
    "##########################################################################\n",
    "#RoutingType\t\t\t\t=\t\t\tCLR\t\t# JLR (default), CLR\n",
    "##########################################################################\n",
    "# MODEL Directory\n",
    "# Format: \"ASC\", \"TXT\", \"DBIF\",\"BIFFIT\", \n",
    "#\t\t\t\t  \"TRMMRT\", \"TRMMV6\", \"NMQBIN\", \"ASBIMO\", \"BIBIMO\"\n",
    "##########################################################################\n",
    "BasicFormat\t\t\t\t=\t\t\tasc \n",
    "BasicPath\t\t\t\t\t=\t\t\t\"{Root}Basics/\"\n",
    "##########################################################################\n",
    "ParamFormat\t\t\t\t=\t\t\tasc\n",
    "ParamPath\t\t\t\t\t=\t\t\t\"{Root}Params/\"\n",
    "##########################################################################\n",
    "StateFormat\t\t\t\t=\t\t\tasc\n",
    "StatePath\t\t\t\t\t=\t\t\t\"{Root}States/\"\n",
    "##########################################################################\n",
    "ICSFormat\t\t\t\t\t=\t\t\tasc\n",
    "ICSPath\t\t\t\t\t\t=\t\t\t\"{Root}ICS/\"\n",
    "##########################################################################\n",
    "RainFormat\t\t\t\t=\t\t\tasc\n",
    "RainPath\t\t\t\t\t=\t\t\t\"{Root}Rains/{nombre_Cuenca}.rain.\"\n",
    "##########################################################################\n",
    "PETFormat\t\t\t\t\t=\t\t\tasc\n",
    "PETPath\t\t\t\t\t\t=\t\t\t\"{Root}PETs/{nombre_Cuenca}.pet.\"\n",
    "##########################################################################\n",
    "ResultFormat\t\t\t=\t\t\tasc\n",
    "ResultPath\t\t\t\t=\t\t\t\"{Root}Results/\"\n",
    "##########################################################################\n",
    "CalibFormat\t\t\t\t=\t\t\tasc\n",
    "CalibPath\t\t\t\t\t=\t\t\t\"{Root}Calibs/\"\n",
    "##########################################################################\n",
    "OBSFormat\t\t\t\t\t=\t\t\tasc\n",
    "OBSPath\t\t\t\t\t\t=\t\t\t\"{Root}OBS/\"\n",
    "##########################################################################\n",
    "# The below data are omitted, when RunStyle=cali_SCEUA\n",
    "##########################################################################\n",
    "#OutPix Information\n",
    "##########################################################################\n",
    "\"\"\")\n",
    "if (len(estacion)>0):\n",
    "    Proyecto.write(f\"\"\"NOutPixs\t\t\t\t\t=\t\t\t{len(estacion)}\\n\"\"\")\n",
    "    if(ColRow):\n",
    "        Proyecto.write(\"OutPixColRow\t\t  =\t\t\tyes\")\n",
    "    else:\n",
    "        Proyecto.write(\"OutPixColRow\t\t  =\t\t\tno\")\n",
    "    for i in range(len(estacion)):\n",
    "        Proyecto.write(estacion[i])\n",
    "else:\n",
    "    Proyecto.write(\"\"\"NOutPixs\t\t\t\t\t=\t\t\t0  \n",
    "    OutPixColRow\t\t  =\t\t\tno\"\"\")\n",
    "\n",
    "\n",
    "Proyecto.write(\"\"\"\n",
    "##########################################################################\n",
    "#Outlet Information\n",
    "##########################################################################\\n\"\"\")\n",
    "\n",
    "\n",
    "if(len(outlet)>0):\n",
    "    Proyecto.write(\"HasOutlet\t\t\t\t\t=\t\t\tyes\\n\")\n",
    "    if(ColRow):\n",
    "        Proyecto.write(\"OutletColRow\t\t  =\t\t\tyes\\n\")\n",
    "    else:\n",
    "        Proyecto.write(\"OutletColRow\t\t  =\t\t\tno\\n\")\n",
    "else:\n",
    "    Proyecto.write(\"HasOutlet\t\t\t\t\t=\t\t\tyes\")\n",
    "    Proyecto.write(\"OutletColRow\t\t  =\t\t\tno\")\n",
    "\n",
    "Proyecto.write(outlet[0])\n",
    "\n",
    "\n",
    "\n",
    "Proyecto.write(f\"\"\"\n",
    "##########################################################################\n",
    "#Grid Outputs\n",
    "##########################################################################\n",
    "{Outputs}\n",
    "##########################################################################\n",
    "NumOfOutputDates\t=\t\t\t0 !{len(outputdate)}\\n\"\"\")\n",
    "\n",
    "for i in range(len(outputdate)):\n",
    "    Proyecto.write(outputdate[i])\n",
    "Proyecto.write(\"\"\"\n",
    "##########################################################################\n",
    "\"\"\")\n",
    "Proyecto.close()\n",
    "\n",
    "\n"
   ]
  },
  {
   "cell_type": "code",
   "execution_count": 5,
   "id": "49f593c8",
   "metadata": {},
   "outputs": [],
   "source": [
    "Root=\"C:/Users/Jorge/Onedrive-Carlos/OneDrive/Crest_Prueba/\"\n",
    "Calibracion = open(Root+\"/Calibs/Calibrations.txt\",\"w\", encoding=\"utf-8\")\n",
    "Runstyle = 'cali_SCEUA'\n",
    "\n",
    "estacionescalibracion = []\n",
    "for Value in range(len(ESTACIONES)):\n",
    "    estacionescalibracion\n",
    "    \n",
    "    estacionescalibracion.append(f'''[Station {Value+1} Begin]\n",
    "    Name_{Value+1}\t\t\t\t\t\t\t=\t\t\t\t\t\t\tEstacion_{Value+1}\n",
    "    Value_{Value+1}\t\t\t\t\t\t\t=\t\t\t\t\t\t\t{Value+1}\n",
    "    Long_{Value+1}\t\t\t\t\t\t\t=\t\t\t\t\t\t\t{ESTACIONES['Longitud'][Value]}  \n",
    "    Lati_{Value+1}\t\t\t\t\t\t\t=\t\t\t\t\t\t\t{ESTACIONES['Latitud'][Value]}\n",
    "    #RainFact_{Value+1}\t\t\t\t\t= 0.5\t\t0.95\t\t1.2\n",
    "    #Ksat_{Value+1}\t\t\t\t\t\t\t= 0.9\t\t0.95\t\t1000\n",
    "    #WM_{Value+1}\t\t\t\t\t\t\t\t= 0.9\t\t0.95\t\t500\n",
    "    #B_{Value+1}\t\t\t\t\t\t\t\t\t= 0.05\t0.25\t\t1.5\n",
    "    #IM_{Value+1}\t\t\t\t\t\t\t\t= 0.0\t\t0.05\t\t0.2\n",
    "    #KE_{Value+1}\t\t\t\t\t\t\t\t= 0.1\t\t0.95\t\t1.5\n",
    "    #coeM_{Value+1}\t\t\t\t\t\t\t= 1.0\t\t90.0\t\t150\n",
    "    #expM_{Value+1}\t\t\t\t\t\t\t= 0.1\t\t0.95\t\t2\n",
    "    #coeR_{Value+1}\t\t\t\t\t\t\t= 1.0\t\t2.00\t\t3.0\n",
    "    #coeS_{Value+1}\t\t\t\t\t\t\t= 0.001\t0.95\t\t1\n",
    "    KS_{Value+1}\t\t\t\t\t\t\t\t= 0.0\t\t0.50\t\t1.0\t\t\t\t\t\t\t# Min\t\tValue\t\tMax\n",
    "    #KI_{Value+1}\t\t\t\t\t\t\t\t= 0.0\t\t0.50\t\t1.0\n",
    "    [Station {Value+1} End]\\n''')\n",
    "\n",
    "if (Runstyle == 'cali_SCEUA'):\n",
    "    Calibracion.write(fr\"\"\"\n",
    "###############################################################################\n",
    "# CREST Calibrations File (Version more than 2.0)\n",
    "###############################################################################\n",
    "iseed\t\t\t\t\t\t\t=\t\t\t\t\t\t\t-3\n",
    "maxn \t\t\t\t\t\t\t= \t\t\t\t\t\t2000\n",
    "kstop\t\t\t\t\t\t\t=\t\t\t\t\t\t\t10\n",
    "pcento\t\t\t\t\t\t=\t\t\t\t\t\t\t0.0001\n",
    "ngs\t\t\t\t\t\t\t\t=\t\t\t\t\t\t\t2\n",
    "###############################################################################\n",
    "NCalibStations\t\t=\t\t\t\t\t\t\t{len(ESTACIONES['Nombre'])}\n",
    "IsColRow\t\t  \t\t=\t\t\t\t\t\t\tno\t\t# yes: use Col& Row; No: Lan & Lati\n",
    "###############################################################################\"\"\")\n",
    "    \n",
    "    for estacion in estacionescalibracion: \n",
    "        Calibracion.write(estacion)\n",
    "        \n",
    "Calibracion.close()"
   ]
  }
 ],
 "metadata": {
  "kernelspec": {
   "display_name": "Python 3 (ipykernel)",
   "language": "python",
   "name": "python3"
  },
  "language_info": {
   "codemirror_mode": {
    "name": "ipython",
    "version": 3
   },
   "file_extension": ".py",
   "mimetype": "text/x-python",
   "name": "python",
   "nbconvert_exporter": "python",
   "pygments_lexer": "ipython3",
   "version": "3.10.9"
  },
  "varInspector": {
   "cols": {
    "lenName": 16,
    "lenType": 16,
    "lenVar": 40
   },
   "kernels_config": {
    "python": {
     "delete_cmd_postfix": "",
     "delete_cmd_prefix": "del ",
     "library": "var_list.py",
     "varRefreshCmd": "print(var_dic_list())"
    },
    "r": {
     "delete_cmd_postfix": ") ",
     "delete_cmd_prefix": "rm(",
     "library": "var_list.r",
     "varRefreshCmd": "cat(var_dic_list()) "
    }
   },
   "types_to_exclude": [
    "module",
    "function",
    "builtin_function_or_method",
    "instance",
    "_Feature"
   ],
   "window_display": false
  }
 },
 "nbformat": 4,
 "nbformat_minor": 5
}
