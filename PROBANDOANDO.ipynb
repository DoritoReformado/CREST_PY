{
 "cells": [
  {
   "cell_type": "code",
   "execution_count": null,
   "id": "c8f1421f",
   "metadata": {},
   "outputs": [],
   "source": [
    "import ee\n",
    "import arcpy\n",
    "import geopandas as gpd\n",
    "import urllib.request\n",
    "import os"
   ]
  },
  {
   "cell_type": "code",
   "execution_count": null,
   "id": "bee3712f",
   "metadata": {},
   "outputs": [],
   "source": [
    "import Crest_Py"
   ]
  },
  {
   "cell_type": "code",
   "execution_count": null,
   "id": "2aa5bb05",
   "metadata": {},
   "outputs": [],
   "source": [
    "import rasterio"
   ]
  },
  {
   "cell_type": "code",
   "execution_count": null,
   "id": "25bb3081",
   "metadata": {},
   "outputs": [],
   "source": [
    "temporal_folder = os.environ['APPDATA'] + '\\\\CRESTPY\\\\'\n",
    "def Basics_singleImage(nombre_Archivo, shp_path, Root, satelite = None, banda = None, cellsize = 0.0008, recortar = False, escalar = False):\n",
    "    #verifica datos de entrada (no va aqui)\n",
    "    if satelite == None:\n",
    "        satelite = Valores_Base[nombre_Archivo]['Satelite']\n",
    "    if banda == None:\n",
    "        banda = Valores_Base[nombre_Archivo]['Banda']\n",
    "\n",
    "    #descarga de la imagen por earth engin\n",
    "    imagen = ee.Image(str(satelite)).clip(ee.FeatureCollection(gpd.read_file(str(shp_path)).__geo_interface__).geometry())\n",
    "    url = imagen.getDownloadUrl({\n",
    "        'bands': [str(banda)], #dato del satelite a tratar\n",
    "        'format': 'GEO_TIFF', #Formato de exportado\n",
    "    })\n",
    "    \n",
    "    #Descarga del archivo a una ruta temporal\n",
    "    temp_file = os.path.join(temporal_folder,nombre_Archivo+'.tif')\n",
    "    urllib.request.urlretrieve(url, temp_file)\n",
    "    \n",
    "    #pasar a formato Ascii\n",
    "    escritura(temp_file, Root, nombre_Archivo)\n",
    "    print(\"Proceso terminado\")\n",
    "    \n"
   ]
  },
  {
   "cell_type": "code",
   "execution_count": null,
   "id": "9a67fb96",
   "metadata": {},
   "outputs": [],
   "source": [
    "class Datos:\n",
    "    datos = {\n",
    "        'DEM': {'Nombre': 'DEM', 'nombre_Carpeta': 'Basics', 'Satelite': 'WWF/HydroSHEDS/03VFDEM', 'Banda': 'b1'},\n",
    "        'FDR': {'Nombre': 'FDR', 'nombre_Carpeta': 'Basics', 'Satelite': 'WWF/HydroSHEDS/03DIR', 'Banda': 'b1'},\n",
    "        'FAC': {'Nombre': 'FAC', 'nombre_Carpeta': 'Basics', 'Satelite': 'WWF/HydroSHEDS/15ACC', 'Banda': 'b1'},\n",
    "        'PETs': {'Nombre': 'pet', 'nombre_Cuenca': '', 'nombre_Carpeta': 'PETs', 'Satelite': 'NASA/FLDAS/NOAH01/C/GL/M/V001', 'Banda': 'Evap_tavg'},\n",
    "        'Rains': {'Nombre': 'rain', 'nombre_Cuenca': '', 'nombre_Carpeta': 'Rains', 'Satelite': 'NASA/FLDAS/NOAH01/C/GL/M/V001', 'Banda': 'Rainf_f_tavg'}\n",
    "    }\n",
    "\n",
    "    def __init__(self):\n",
    "        self.nombre_cuenca = input(\"Defina el nombre de la cuenca: \")\n",
    "        self.datos['PETs']['nombre_Cuenca'] = self.nombre_cuenca\n",
    "        self.datos['Rains']['nombre_Cuenca'] = self.nombre_cuenca\n",
    "\n",
    "    def prueba(self):\n",
    "        print(self.datos)\n",
    "    \n",
    "    def variar_satelite(self, nombre, satelite, banda):\n",
    "        self.datos[str(nombre)]['Satelite'] = satelite\n",
    "        self.datos[str(nombre)]['Banda'] = banda\n",
    "\n",
    "# Create an instance of the Datos class\n",
    "datos_instance = Datos()\n",
    "datos_instance.prueba()\n",
    "datos_instance.variar_satelite('DEM','satelite_prueba','banda0')\n",
    "\n",
    "        "
   ]
  },
  {
   "cell_type": "code",
   "execution_count": null,
   "id": "193721d9",
   "metadata": {},
   "outputs": [],
   "source": [
    "data = datos()\n"
   ]
  },
  {
   "cell_type": "code",
   "execution_count": null,
   "id": "75f1c291",
   "metadata": {},
   "outputs": [],
   "source": [
    "shp_path = r'C:\\Users\\carlo\\OneDrive\\Jovenes Investigadores\\Trabajo\\Mes 1\\HuilaDatos\\Geologia\\Projectsandtransformations\\Cuenca_Rio_Guarocó.shp'\n",
    "satelite = \n",
    "banda = \n",
    "sistemaCoordenadas = 4326"
   ]
  },
  {
   "cell_type": "code",
   "execution_count": null,
   "id": "181074f4",
   "metadata": {},
   "outputs": [],
   "source": [
    "if not os.path.exist(temporal_folder) os.mkdir(temporal_folder)"
   ]
  }
 ],
 "metadata": {
  "kernelspec": {
   "display_name": "Python 3",
   "language": "python",
   "name": "python3"
  },
  "language_info": {
   "codemirror_mode": {
    "name": "ipython",
    "version": 3
   },
   "file_extension": ".py",
   "mimetype": "text/x-python",
   "name": "python",
   "nbconvert_exporter": "python",
   "pygments_lexer": "ipython3",
   "version": "3.9.11"
  },
  "varInspector": {
   "cols": {
    "lenName": 16,
    "lenType": 16,
    "lenVar": 40
   },
   "kernels_config": {
    "python": {
     "delete_cmd_postfix": "",
     "delete_cmd_prefix": "del ",
     "library": "var_list.py",
     "varRefreshCmd": "print(var_dic_list())"
    },
    "r": {
     "delete_cmd_postfix": ") ",
     "delete_cmd_prefix": "rm(",
     "library": "var_list.r",
     "varRefreshCmd": "cat(var_dic_list()) "
    }
   },
   "types_to_exclude": [
    "module",
    "function",
    "builtin_function_or_method",
    "instance",
    "_Feature"
   ],
   "window_display": false
  }
 },
 "nbformat": 4,
 "nbformat_minor": 5
}
