{
 "cells": [
  {
   "cell_type": "code",
   "execution_count": 1,
   "id": "56d99698",
   "metadata": {},
   "outputs": [],
   "source": [
    "import Crest_Py as crt"
   ]
  },
  {
   "cell_type": "code",
   "execution_count": 2,
   "id": "d07ed5ab",
   "metadata": {},
   "outputs": [],
   "source": [
    "Root=\"C:/Users/Jorge/Onedrive-Carlos/OneDrive/CREST_Baraya/\"\n",
    "crt.Iniciar(Root)"
   ]
  },
  {
   "cell_type": "code",
   "execution_count": 3,
   "id": "4ce1100f",
   "metadata": {
    "scrolled": true
   },
   "outputs": [],
   "source": [
    "##**!<------Ingresar DEM------>!**##\n",
    "\n",
    "Satelite = 'WWF/HydroSHEDS/03VFDEM'\n",
    "Banda = 'b1'\n",
    "shp_path =\"C:/Users/Jorge/Onedrive-Carlos/OneDrive/Jovenes Investigadores/Trabajo/Mes 1/HuilaDatos/Geologia/Projectsandtransformations/Cuenca_Rio_Guarocó.shp\"\n",
    "sistemaCoordenadas=4326\n",
    "crt.Basics_singleImage('DEM', shp_path, Satelite, Banda, Root, sistemaCoordenadas, 0.0016, True, True)\n"
   ]
  },
  {
   "cell_type": "code",
   "execution_count": 4,
   "id": "7cbead7d",
   "metadata": {},
   "outputs": [],
   "source": [
    "##**!<------Ingresar FDR------>!**##\n",
    "\n",
    "Satelite = 'WWF/HydroSHEDS/03DIR'\n",
    "Banda = 'b1'\n",
    "shp_path =\"C:/Users/Jorge/Onedrive-Carlos/OneDrive/Jovenes Investigadores/Trabajo/Mes 1/HuilaDatos/Geologia/Projectsandtransformations/Cuenca_Rio_Guarocó.shp\"\n",
    "sistemaCoordenadas=4326\n",
    "crt.Basics_singleImage('FDR', shp_path, Satelite, Banda, Root, sistemaCoordenadas, 0.0016, True, True)"
   ]
  },
  {
   "cell_type": "code",
   "execution_count": 5,
   "id": "8806cd35",
   "metadata": {},
   "outputs": [],
   "source": [
    "##**!<------Ingresar FAC------>!**##\n",
    "\n",
    "Satelite = 'WWF/HydroSHEDS/15ACC'\n",
    "Banda = 'b1'\n",
    "shp_path =\"C:/Users/Jorge/Onedrive-Carlos/OneDrive/Jovenes Investigadores/Trabajo/Mes 1/HuilaDatos/Geologia/Projectsandtransformations/Cuenca_Rio_Guarocó.shp\"\n",
    "sistemaCoordenadas=4326\n",
    "crt.Basics_singleImage('FAC', shp_path, Satelite, Banda, Root, sistemaCoordenadas, 0.0016, True, True)"
   ]
  },
  {
   "cell_type": "code",
   "execution_count": null,
   "id": "837fb3d9",
   "metadata": {},
   "outputs": [],
   "source": [
    "##**!<------Ingresar Mask------>!**##\n",
    "\n",
    "nombre_Archivo=\"Mask\"\n",
    "tif_path=\"C:/Users/Jorge/Onedrive-Carlos/OneDrive/HydroSHEDS_Download_Data/HYDROSHEDS_LANDMASK/sa_msk_3s.tif\"\n",
    "shp_path=\"C:/Users/Jorge/Onedrive-Carlos/OneDrive/Jovenes Investigadores/Trabajo/Mes 1/HuilaDatos/Geologia/Projectsandtransformations/Cuenca_Rio_Guarocó.shp\"\n",
    "sistemaCoordenadas=4326\n",
    "cellsize=0.0016\n",
    "recortar=True\n",
    "escalar=True\n",
    "\n",
    "crt.Basics_singleImage_Local(nombre_Archivo, tif_path, shp_path, Root, sistemaCoordenadas, cellsize, recortar, escalar)"
   ]
  },
  {
   "cell_type": "code",
   "execution_count": null,
   "id": "510e7030",
   "metadata": {},
   "outputs": [],
   "source": [
    "##**!<------Ingresar Stream------>!**##\n",
    "\n",
    "nombre_Archivo=\"Stream\"\n",
    "tif_path=\"C:/Users/Jorge/Onedrive-Carlos/OneDrive/HydroSHEDS_Download_Data/HydroRIVERS_v10_sa_shp/HYDRA.tif\"\n",
    "shp_path=\"C:/Users/Jorge/Onedrive-Carlos/OneDrive/Jovenes Investigadores/Trabajo/Mes 1/HuilaDatos/Geologia/Projectsandtransformations/Cuenca_Rio_Guarocó.shp\"\n",
    "sistemaCoordenadas=4326\n",
    "cellsize=0.0016\n",
    "recortar=True\n",
    "escalar=True\n",
    "\n",
    "crt.Basics_singleImage_Local(nombre_Archivo, tif_path, shp_path, Root, sistemaCoordenadas, cellsize, recortar, escalar)"
   ]
  },
  {
   "cell_type": "code",
   "execution_count": null,
   "id": "fda1307e",
   "metadata": {},
   "outputs": [],
   "source": [
    "##**!<------Ingresar Evapotranspiracion Potencial------>!**##\n",
    "\n",
    "\n",
    "nombre_Cuenca=\"Guarroco\"\n",
    "nombre_Archivo=\"pet\"\n",
    "nombre_carpeta=\"PET\"\n",
    "satelite = \"ECMWF/ERA5_LAND/MONTHLY_AGGR\"\n",
    "Banda = 'potential_evaporation_sum'\n",
    "cellsize = 0.0016\n",
    "shp_path = \"C:/Users/Jorge/Onedrive-Carlos/OneDrive/Jovenes Investigadores/Trabajo/Mes 1/HuilaDatos/Geologia/Projectsandtransformations/Cuenca_Rio_Guarocó.shp\"\n",
    "start_date = '2019-01-01'\n",
    "end_date = '2019-12-31'\n",
    "MoD = \"m\"\n",
    "sistemaCoordenadas=4326\n",
    "recortar=True\n",
    "escalar=True\n",
    "crt.Download_TimeSerie(nombre_Cuenca, nombre_Archivo, nombre_carpeta, satelite, Banda, cellsize, shp_path, start_date, end_date, MoD, Root, sistemaCoordenadas, recortar, escalar)"
   ]
  },
  {
   "cell_type": "code",
   "execution_count": null,
   "id": "a061ca8a",
   "metadata": {},
   "outputs": [],
   "source": [
    "##**!<------Ingresar LLuvias------>!**##\n",
    "\n",
    "\n",
    "nombre_Cuenca=\"Guarroco\"\n",
    "nombre_Archivo=\"rain\"\n",
    "nombre_carpeta=\"Rains\"\n",
    "satelite = \"TRMM/3B43V7\"\n",
    "Banda = 'precipitation'\n",
    "cellsize = 0.0016\n",
    "shp_path = \"C:/Users/Jorge/Onedrive-Carlos/OneDrive/Jovenes Investigadores/Trabajo/Mes 1/HuilaDatos/Geologia/Projectsandtransformations/Cuenca_Rio_Guarocó.shp\"\n",
    "start_date = '2019-01-01'\n",
    "end_date = '2019-12-31'\n",
    "MoD = \"m\"\n",
    "sistemaCoordenadas=4326\n",
    "recortar=True\n",
    "escalar=True\n",
    "crt.Download_TimeSerie(nombre_Cuenca, nombre_Archivo, nombre_carpeta, satelite, Banda, cellsize, shp_path, start_date, end_date, MoD, Root, sistemaCoordenadas, recortar, escalar)"
   ]
  }
 ],
 "metadata": {
  "kernelspec": {
   "display_name": "Python 3 (ipykernel)",
   "language": "python",
   "name": "python3"
  },
  "language_info": {
   "codemirror_mode": {
    "name": "ipython",
    "version": 3
   },
   "file_extension": ".py",
   "mimetype": "text/x-python",
   "name": "python",
   "nbconvert_exporter": "python",
   "pygments_lexer": "ipython3",
   "version": "3.10.11"
  },
  "varInspector": {
   "cols": {
    "lenName": 16,
    "lenType": 16,
    "lenVar": 40
   },
   "kernels_config": {
    "python": {
     "delete_cmd_postfix": "",
     "delete_cmd_prefix": "del ",
     "library": "var_list.py",
     "varRefreshCmd": "print(var_dic_list())"
    },
    "r": {
     "delete_cmd_postfix": ") ",
     "delete_cmd_prefix": "rm(",
     "library": "var_list.r",
     "varRefreshCmd": "cat(var_dic_list()) "
    }
   },
   "types_to_exclude": [
    "module",
    "function",
    "builtin_function_or_method",
    "instance",
    "_Feature"
   ],
   "window_display": false
  }
 },
 "nbformat": 4,
 "nbformat_minor": 5
}
