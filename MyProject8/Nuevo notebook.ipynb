{
 "cells": [
  {
   "cell_type": "code",
   "execution_count": 4,
   "metadata": {},
   "outputs": [],
   "source": [
    "import arcpy\n",
    "import os\n",
    "import geopandas as gpd\n"
   ]
  },
  {
   "cell_type": "code",
   "execution_count": null,
   "metadata": {},
   "outputs": [],
   "source": [
    "ruta_acceso_tifs = \"C:/Users/carlo/OneDrive/CREST_Baraya/Temporales/Basics/Escalado/\"\n",
    "files = [file for file in os.listdir(ruta_acceso_tifs) if file.endswith('.tif')]\n",
    "print(files)"
   ]
  },
  {
   "cell_type": "code",
   "execution_count": null,
   "metadata": {},
   "outputs": [],
   "source": [
    "for raster in files:\n",
    "    rutacompleta = ruta_acceso_tifs+raster\n",
    "    rutaascii = \"C:/Users/carlo/OneDrive/CREST_Baraya/Basics/\" + raster[:-4] + \".asc\"\n",
    "    arcpy.conversion.RasterToASCII(rutacompleta, rutaascii)"
   ]
  },
  {
   "cell_type": "code",
   "execution_count": 21,
   "metadata": {},
   "outputs": [
    {
     "name": "stdout",
     "output_type": "stream",
     "text": [
      "\n",
      "\n",
      "CREST\n",
      "COUPLED ROUTING AND EXCESS STORAGE (OU & NASA)\n",
      "Version 2.1 10/31/2014\n",
      "\n",
      "Run start date and time (yyyy/mm/dd hh:mm:ss): 2023/07/13 17:08:30\n",
      "\n",
      "Reading Project Data!\n",
      "Reading Routing Type!\n",
      "Reading Basic Data!\n",
      "Reading DEM File!\n",
      "*** Something wrong in your basics file!\n"
     ]
    },
    {
     "data": {
      "text/plain": [
       "0"
      ]
     },
     "execution_count": 21,
     "metadata": {},
     "output_type": "execute_result"
    }
   ],
   "source": [
    "import subprocess\n",
    "\n",
    "ruta_directorio = r'C:\\Users\\carlo\\OneDrive\\CREST_Example'\n",
    "archivo_ejecutable = 'crest_v2_1.exe'\n",
    "argumento = 'IdealExample_Windows.Project'\n",
    "\n",
    "# Cambiar al directorio deseado y ejecutar el archivo ejecutable con el argumento\n",
    "proceso = subprocess.Popen(f'cd /d {ruta_directorio} && {archivo_ejecutable} {argumento}', shell=True, stdout=subprocess.PIPE, stderr=subprocess.STDOUT)\n",
    "\n",
    "# Leer y mostrar la salida del proceso línea por línea\n",
    "for linea in proceso.stdout:\n",
    "    print(linea.decode('utf-8').strip())\n",
    "\n",
    "# Esperar a que el proceso termine\n",
    "proceso.wait()\n"
   ]
  }
 ],
 "metadata": {
  "kernelspec": {
   "display_name": "Python 3 (ipykernel)",
   "language": "python",
   "name": "python3"
  },
  "language_info": {
   "codemirror_mode": {
    "name": "ipython",
    "version": 3
   },
   "file_extension": ".py",
   "mimetype": "text/x-python",
   "name": "python",
   "nbconvert_exporter": "python",
   "pygments_lexer": "ipython3",
   "version": "3.9.13"
  },
  "varInspector": {
   "cols": {
    "lenName": 16,
    "lenType": 16,
    "lenVar": 40
   },
   "kernels_config": {
    "python": {
     "delete_cmd_postfix": "",
     "delete_cmd_prefix": "del ",
     "library": "var_list.py",
     "varRefreshCmd": "print(var_dic_list())"
    },
    "r": {
     "delete_cmd_postfix": ") ",
     "delete_cmd_prefix": "rm(",
     "library": "var_list.r",
     "varRefreshCmd": "cat(var_dic_list()) "
    }
   },
   "types_to_exclude": [
    "module",
    "function",
    "builtin_function_or_method",
    "instance",
    "_Feature"
   ],
   "window_display": false
  }
 },
 "nbformat": 4,
 "nbformat_minor": 2
}
