{
 "cells": [
  {
   "cell_type": "code",
   "execution_count": 1,
   "id": "df408b8f",
   "metadata": {},
   "outputs": [],
   "source": [
    "import sys\n",
    "import geopandas as gpd\n",
    "import geemap as gee\n",
    "import ee\n",
    "import Crest_Py as crt"
   ]
  },
  {
   "cell_type": "code",
   "execution_count": 2,
   "id": "b6ca76e4",
   "metadata": {},
   "outputs": [],
   "source": [
    "# Ruta al archivo TIFF que deseas recortar\n",
    "\n",
    "\n",
    "# Ruta al archivo shapefile que se utilizará para el recorte\n",
    "shp_path = \"C:/Users/carlo/Documents/ArcproProductos/Cuenca_Guarroco_Venado_Unidas_project3.shp\"\n",
    "\n",
    "\n",
    "# Define las fechas de inicio y fin de la serie de tiempo\n",
    "start_date = '2019-01-01'\n",
    "end_date = '2019-12-31'\n",
    "\n",
    "#Ruta a la carpeta madre del modelo\n",
    "Root = \"C:/Users/carlo/OneDrive/CREST_Baraya1.2/\"\n",
    "\n",
    "\n",
    "sistemaCoordenadas = 4326\n",
    "\n",
    "#especificaciones hechas para el tamaño del modelo\n",
    "#Escala = 92.76587\n",
    "tamañoCelda = 0.025"
   ]
  },
  {
   "cell_type": "code",
   "execution_count": null,
   "id": "ffeb807b",
   "metadata": {},
   "outputs": [],
   "source": [
    "Satelite = 'WWF/HydroSHEDS/30CONDEM'\n",
    "Banda = 'b1'\n",
    "crt.Basics_singleImage('Guarroco', 'DEM', shp_path, Satelite, Banda, tamañoCelda, Root, sistemaCoordenadas)\n",
    "Satelite = \"WWF/HydroSHEDS/30ACC\"\n",
    "Banda = 'b1'\n",
    "crt.Basics_singleImage('Guarroco', 'FAC', shp_path, Satelite, Banda, tamañoCelda, Root, sistemaCoordenadas)\n",
    "Satelite = \"WWF/HydroSHEDS/30DIR\"\n",
    "Banda = 'b1'\n",
    "crt.Basics_singleImage('Guarroco', 'FDR', shp_path, Satelite, Banda, tamañoCelda, Root, sistemaCoordenadas)\n"
   ]
  },
  {
   "cell_type": "code",
   "execution_count": null,
   "id": "61b65b3f",
   "metadata": {},
   "outputs": [],
   "source": [
    "tif_path = 'C:/Users/carlo/OneDrive/HydroSHEDS_Download_Data/HYDROSHEDS_LANDMASK/sa_msk_3s.tif'\n",
    "crt.Basics_singleImage_Local('Guarroco', 'Mask', tamañoCelda, tif_path, shp_path, Root, sistemaCoordenadas)\n",
    "tif_path = 'C:/Users/carlo/OneDrive/HydroSHEDS_Download_Data/HydroRIVERS_v10_sa_shp/HYDRA.tif'\n",
    "crt.Basics_singleImage_Local('Guarroco', 'Stream', tamañoCelda, tif_path, shp_path, Root, sistemaCoordenadas)"
   ]
  },
  {
   "cell_type": "code",
   "execution_count": null,
   "id": "41b5c405",
   "metadata": {},
   "outputs": [],
   "source": [
    "satelite = \"ECMWF/ERA5_LAND/MONTHLY_AGGR\"\n",
    "scope = 'potential_evaporation_sum'\n",
    "MoD = \"m\"\n",
    "crt.Download_TimeSerie('Guarroco', 'pet', 'PETs', satelite, scope, tamañoCelda, shp_path, start_date, end_date, MoD, Root, sistemaCoordenadas)\n",
    "\n",
    "satelite = \"TRMM/3B43V7\"\n",
    "scope = 'precipitation'\n",
    "MoD = \"m\"\n",
    "crt.Download_TimeSerie('Guarroco', 'rain', 'Rains', satelite, scope, tamañoCelda, shp_path, start_date, end_date, MoD, Root, sistemaCoordenadas)"
   ]
  },
  {
   "cell_type": "code",
   "execution_count": null,
   "id": "b6495b42",
   "metadata": {},
   "outputs": [],
   "source": []
  }
 ],
 "metadata": {
  "kernelspec": {
   "display_name": "Python 3 (ipykernel)",
   "language": "python",
   "name": "python3"
  },
  "language_info": {
   "codemirror_mode": {
    "name": "ipython",
    "version": 3
   },
   "file_extension": ".py",
   "mimetype": "text/x-python",
   "name": "python",
   "nbconvert_exporter": "python",
   "pygments_lexer": "ipython3",
   "version": "3.10.9"
  },
  "varInspector": {
   "cols": {
    "lenName": 16,
    "lenType": 16,
    "lenVar": 40
   },
   "kernels_config": {
    "python": {
     "delete_cmd_postfix": "",
     "delete_cmd_prefix": "del ",
     "library": "var_list.py",
     "varRefreshCmd": "print(var_dic_list())"
    },
    "r": {
     "delete_cmd_postfix": ") ",
     "delete_cmd_prefix": "rm(",
     "library": "var_list.r",
     "varRefreshCmd": "cat(var_dic_list()) "
    }
   },
   "types_to_exclude": [
    "module",
    "function",
    "builtin_function_or_method",
    "instance",
    "_Feature"
   ],
   "window_display": false
  }
 },
 "nbformat": 4,
 "nbformat_minor": 5
}
